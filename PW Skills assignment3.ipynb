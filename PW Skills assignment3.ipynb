{
 "cells": [
  {
   "cell_type": "markdown",
   "id": "6b0c6f20",
   "metadata": {},
   "source": [
    "## Assignment on Functions (25-05-2023)"
   ]
  },
  {
   "cell_type": "markdown",
   "id": "84f26c09",
   "metadata": {},
   "source": [
    "#### Q1. Which keyword is used to create a function? Create a function to return a list of odd numbers in the range of 1 to 25."
   ]
  },
  {
   "cell_type": "code",
   "execution_count": 1,
   "id": "c99ff793",
   "metadata": {},
   "outputs": [
    {
     "name": "stdout",
     "output_type": "stream",
     "text": [
      "Odd numbers in the given list are: [1, 3, 5, 7, 9, 11, 13, 15, 17, 19, 21, 23]\n"
     ]
    }
   ],
   "source": [
    "# we use the keyword \"def\" to create the function\n",
    "\n",
    "def odd_no(l):\n",
    "    n=[]\n",
    "    for i in l:\n",
    "        if i%2!=0:\n",
    "            n.append(i)\n",
    "    return n\n",
    "print(\"Odd numbers in the given list are:\",odd_no(range(1,25)))"
   ]
  },
  {
   "cell_type": "markdown",
   "id": "8a6f2f0f",
   "metadata": {},
   "source": [
    "#### Q2. Why *args and **kwargs is used in some functions? Create a function each for *args and **kwargs to demonstrate their use."
   ]
  },
  {
   "cell_type": "code",
   "execution_count": 2,
   "id": "b0238046",
   "metadata": {},
   "outputs": [
    {
     "name": "stdout",
     "output_type": "stream",
     "text": [
      "(11, 12, 13, 14, 15) Type of args is: <class 'tuple'>\n",
      "{'pw': 100, 'k': 90, 'n': 100, 'm': 110} Type of args is: <class 'dict'>\n"
     ]
    }
   ],
   "source": [
    "# *args and **kwargs are used to capture the default argument's and the keyword arguments respectively \n",
    "\n",
    "def argument(*args,**kwargs):\n",
    "    print(args,\"Type of args is:\",type(args))\n",
    "    print(kwargs,\"Type of args is:\",type(kwargs))    \n",
    "argument(11,12,13,14,15,pw=100,k=90,n=100,m=110)\n",
    "\n",
    "# As we can see in the output, whatever the default argument captured by args argument and all the elements stored as \"tuple\"\n",
    "# and all the keyword arguments which we are passed are captured by kwargs argument and stored in the form of dictionary"
   ]
  },
  {
   "cell_type": "markdown",
   "id": "36ed9540",
   "metadata": {},
   "source": [
    "#### Q3. What is an iterator in python? Name the method used to initialise the iterator object and the method used for iteration. Use these methods to print the first five elements of the given list [2, 4, 6, 8, 10, 12, 14, 16,18, 20]."
   ]
  },
  {
   "cell_type": "code",
   "execution_count": 3,
   "id": "60c55153",
   "metadata": {},
   "outputs": [
    {
     "name": "stdout",
     "output_type": "stream",
     "text": [
      "2\n",
      "4\n",
      "6\n",
      "8\n",
      "10\n"
     ]
    }
   ],
   "source": [
    "# iterator is an object which is used to iterate over the iterables like lists, tuples, dictionary,sets.\n",
    "\n",
    "# iterable --> ex:- lists, tuples,sets and dictionary.\n",
    "\n",
    "# iter() method is used to initialize the iterator object and we use next() method as iterator to extract the values from the iterable.\n",
    "\n",
    "n=[2, 4, 6, 8, 10, 12, 14, 16,18, 20]\n",
    "l=iter(n) # initialising the iterator object\n",
    "for i in range(5):\n",
    "    print(next(l))"
   ]
  },
  {
   "cell_type": "markdown",
   "id": "bdac3f85",
   "metadata": {},
   "source": [
    "#### Q4. What is a generator function in python? Why yield keyword is used? Give an example of a generator function."
   ]
  },
  {
   "cell_type": "markdown",
   "id": "42dc0fc2",
   "metadata": {},
   "source": [
    "1. Generator expression creates a generator object that produces the value of expression for each item in the iterable one at a time when iterated over it. Generator function is used to generate the large sequence of values , but we don't want to store all of them in a memory at once. \n",
    "\n",
    "2. Generators can represent infinite stream of data within the variable. \n",
    "\n",
    "3. yield keyword is used to store the values within the generator function. For a normal function we have return statement and for generator function we have a yield statement"
   ]
  },
  {
   "cell_type": "code",
   "execution_count": 4,
   "id": "ccc1336e",
   "metadata": {},
   "outputs": [
    {
     "name": "stdout",
     "output_type": "stream",
     "text": [
      "0 2 4 6 8 "
     ]
    }
   ],
   "source": [
    "# for example you want to create a generator with all the even numbers and want to extract 5 even numbers from all the even numbers.\n",
    "\n",
    "def all_even( ):\n",
    "    n=0\n",
    "    while True:\n",
    "        yield n\n",
    "        n+=2\n",
    "# above generator function produces the sequence of all the even numbers (infinite numbers stored)\n",
    "\n",
    "# we can extract the first 5 even numbers using for loop\n",
    "a=0\n",
    "for i in all_even():\n",
    "    print(i,end=\" \")\n",
    "    if a==4: break\n",
    "    a+=1\n",
    "\n"
   ]
  },
  {
   "cell_type": "markdown",
   "id": "5eb5d474",
   "metadata": {},
   "source": [
    "#### Q5. Create a generator function for prime numbers less than 1000. Use the next() method to print the first 20 prime numbers."
   ]
  },
  {
   "cell_type": "code",
   "execution_count": 5,
   "id": "cf804233",
   "metadata": {},
   "outputs": [
    {
     "name": "stdout",
     "output_type": "stream",
     "text": [
      "2 3 5 7 11 13 17 19 23 29 31 37 41 43 47 53 59 61 67 71 "
     ]
    }
   ],
   "source": [
    "def prime(n):\n",
    "    for i in range(1,n):\n",
    "        count=0\n",
    "        for j in range(1,i+1):\n",
    "            if i%j==0:\n",
    "                count+=1\n",
    "        if count==2:\n",
    "            yield i\n",
    "a=prime(1000)\n",
    "for i in range(20):\n",
    "    print(next(a),end=\" \")"
   ]
  }
 ],
 "metadata": {
  "kernelspec": {
   "display_name": "Python 3 (ipykernel)",
   "language": "python",
   "name": "python3"
  },
  "language_info": {
   "codemirror_mode": {
    "name": "ipython",
    "version": 3
   },
   "file_extension": ".py",
   "mimetype": "text/x-python",
   "name": "python",
   "nbconvert_exporter": "python",
   "pygments_lexer": "ipython3",
   "version": "3.9.12"
  }
 },
 "nbformat": 4,
 "nbformat_minor": 5
}
